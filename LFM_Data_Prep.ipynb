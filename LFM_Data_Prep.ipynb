{
 "cells": [
  {
   "cell_type": "code",
   "execution_count": 96,
   "outputs": [],
   "source": [
    "import pandas as pd\n",
    "import numpy as np\n",
    "from matplotlib import pyplot as plt\n",
    "import scipy.io\n",
    "import time"
   ],
   "metadata": {
    "collapsed": false,
    "pycharm": {
     "name": "#%%\n"
    }
   }
  },
  {
   "cell_type": "code",
   "execution_count": 32,
   "metadata": {
    "collapsed": true
   },
   "outputs": [],
   "source": [
    "df = pd.read_csv(\"data/LFM-1b_users_additional.txt\",sep='\\t')"
   ]
  },
  {
   "cell_type": "code",
   "execution_count": 44,
   "outputs": [
    {
     "data": {
      "text/plain": "         user-id novelty_artist_avg_month  novelty_artist_avg_6months  \\\n0            384      0.27662877856116547                    0.044439   \n1           1206      0.43722350196912885                    0.109671   \n2           2622       0.6048279783555439                    0.043923   \n3           2732        0.756972787635667                    0.020071   \n4           3653       0.3800046739749389                    0.045207   \n...          ...                      ...                         ...   \n120317  50871714       0.4170865923166275                    0.035417   \n120318  50900118       0.5663278949531642                    0.032624   \n120319  50931921       0.4831712218001485                    0.032946   \n120320  50933471       0.5596322199950615                    0.026570   \n120321  50967444        0.263944713685375                    0.059712   \n\n       novelty_artist_avg_year  mainstreaminess_avg_month  \\\n0           0.3094285950064659                   0.024655   \n1           0.5137868970632553                   0.181991   \n2           0.6989826304571969                   0.052310   \n3           0.8828014254570007                   0.005092   \n4           0.4244110181051142                   0.042821   \n...                        ...                        ...   \n120317      0.5498878061771393                   0.084304   \n120318      0.6803168281912804                   0.049010   \n120319     0.35164836049079895                   0.038075   \n120320      0.5991988703608513                   0.040033   \n120321      0.5129455775022507                   0.115332   \n\n       mainstreaminess_avg_6months  mainstreaminess_avg_year  \\\n0              0.36734262481331825                  0.000000   \n1               0.3913043439388275                  0.000000   \n2               0.7800639122724533                  0.079669   \n3               0.8863636453946432                  0.032614   \n4               0.4917559259467655                  0.077731   \n...                            ...                       ...   \n120317          0.6624909937381744                  0.075544   \n120318          0.8278538286685944                  0.103613   \n120319         0.38235294818878174                  0.012505   \n120320          0.6567867696285248                  0.039335   \n120321           0.701197475194931                  0.089394   \n\n        mainstreaminess_global  cnt_listeningevents  cnt_distinct_tracks  ...  \\\n0                     0.124903                17198                 3601  ...   \n1                     0.343855                17967                10990  ...   \n2                     0.245980                 3939                 3084  ...   \n3                     0.077512                  234                  202  ...   \n4                     0.207567                18238                 9839  ...   \n...                        ...                  ...                  ...  ...   \n120317                0.160736                26932                 6837  ...   \n120318                0.145418                 7174                 3970  ...   \n120319                0.136102                  998                  676  ...   \n120320                0.175908                 4152                 2845  ...   \n120321                0.247454                34440                10080  ...   \n\n        relative_le_per_hour14  relative_le_per_hour15 relative_le_per_hour16  \\\n0                       0.0279                   0.041                 0.0811   \n1                       0.0016                  0.0115                 0.0276   \n2                        0.132                  0.0493                 0.0317   \n3                       0.0598                  0.0726                 0.0171   \n4                       0.0541                  0.0518                 0.0564   \n...                        ...                     ...                    ...   \n120317                  0.0542                  0.0529                 0.0575   \n120318                  0.0397                  0.0431                 0.0587   \n120319                  0.0561                  0.1172                 0.1723   \n120320                  0.0417                  0.0347                 0.0294   \n120321                  0.0153                  0.0292                 0.0422   \n\n       relative_le_per_hour17 relative_le_per_hour18 relative_le_per_hour19  \\\n0                      0.1506                 0.0377                 0.0298   \n1                      0.0662                  0.079                 0.0838   \n2                       0.047                 0.0658                 0.1127   \n3                      0.0342                 0.0769                 0.1453   \n4                      0.0554                 0.0849                 0.0954   \n...                       ...                    ...                    ...   \n120317                 0.0558                 0.0578                 0.0573   \n120318                 0.0733                 0.0843                 0.0764   \n120319                 0.1062                 0.0892                 0.1092   \n120320                 0.0236                 0.0508                 0.0763   \n120321                 0.0438                 0.0547                 0.0508   \n\n       relative_le_per_hour20 relative_le_per_hour21 relative_le_per_hour22  \\\n0                      0.0132                 0.0007                 0.0001   \n1                      0.0995                 0.1195                 0.0968   \n2                      0.1112                  0.068                 0.0437   \n3                       0.047                 0.0513                 0.0085   \n4                      0.0833                 0.0657                 0.0471   \n...                       ...                    ...                    ...   \n120317                 0.0515                 0.0551                 0.0639   \n120318                 0.0728                 0.0643                 0.0555   \n120319                 0.0621                  0.012                  0.021   \n120320                 0.1086                 0.1419                 0.1387   \n120321                 0.0428                  0.046                 0.0575   \n\n       relative_le_per_hour23  \n0                      0.0151  \n1                      0.0839  \n2                      0.0254  \n3                      0.0128  \n4                      0.0595  \n...                       ...  \n120317                 0.0641  \n120318                 0.0452  \n120319                  0.006  \n120320                 0.1004  \n120321                 0.0568  \n\n[120322 rows x 43 columns]",
      "text/html": "<div>\n<style scoped>\n    .dataframe tbody tr th:only-of-type {\n        vertical-align: middle;\n    }\n\n    .dataframe tbody tr th {\n        vertical-align: top;\n    }\n\n    .dataframe thead th {\n        text-align: right;\n    }\n</style>\n<table border=\"1\" class=\"dataframe\">\n  <thead>\n    <tr style=\"text-align: right;\">\n      <th></th>\n      <th>user-id</th>\n      <th>novelty_artist_avg_month</th>\n      <th>novelty_artist_avg_6months</th>\n      <th>novelty_artist_avg_year</th>\n      <th>mainstreaminess_avg_month</th>\n      <th>mainstreaminess_avg_6months</th>\n      <th>mainstreaminess_avg_year</th>\n      <th>mainstreaminess_global</th>\n      <th>cnt_listeningevents</th>\n      <th>cnt_distinct_tracks</th>\n      <th>...</th>\n      <th>relative_le_per_hour14</th>\n      <th>relative_le_per_hour15</th>\n      <th>relative_le_per_hour16</th>\n      <th>relative_le_per_hour17</th>\n      <th>relative_le_per_hour18</th>\n      <th>relative_le_per_hour19</th>\n      <th>relative_le_per_hour20</th>\n      <th>relative_le_per_hour21</th>\n      <th>relative_le_per_hour22</th>\n      <th>relative_le_per_hour23</th>\n    </tr>\n  </thead>\n  <tbody>\n    <tr>\n      <th>0</th>\n      <td>384</td>\n      <td>0.27662877856116547</td>\n      <td>0.044439</td>\n      <td>0.3094285950064659</td>\n      <td>0.024655</td>\n      <td>0.36734262481331825</td>\n      <td>0.000000</td>\n      <td>0.124903</td>\n      <td>17198</td>\n      <td>3601</td>\n      <td>...</td>\n      <td>0.0279</td>\n      <td>0.041</td>\n      <td>0.0811</td>\n      <td>0.1506</td>\n      <td>0.0377</td>\n      <td>0.0298</td>\n      <td>0.0132</td>\n      <td>0.0007</td>\n      <td>0.0001</td>\n      <td>0.0151</td>\n    </tr>\n    <tr>\n      <th>1</th>\n      <td>1206</td>\n      <td>0.43722350196912885</td>\n      <td>0.109671</td>\n      <td>0.5137868970632553</td>\n      <td>0.181991</td>\n      <td>0.3913043439388275</td>\n      <td>0.000000</td>\n      <td>0.343855</td>\n      <td>17967</td>\n      <td>10990</td>\n      <td>...</td>\n      <td>0.0016</td>\n      <td>0.0115</td>\n      <td>0.0276</td>\n      <td>0.0662</td>\n      <td>0.079</td>\n      <td>0.0838</td>\n      <td>0.0995</td>\n      <td>0.1195</td>\n      <td>0.0968</td>\n      <td>0.0839</td>\n    </tr>\n    <tr>\n      <th>2</th>\n      <td>2622</td>\n      <td>0.6048279783555439</td>\n      <td>0.043923</td>\n      <td>0.6989826304571969</td>\n      <td>0.052310</td>\n      <td>0.7800639122724533</td>\n      <td>0.079669</td>\n      <td>0.245980</td>\n      <td>3939</td>\n      <td>3084</td>\n      <td>...</td>\n      <td>0.132</td>\n      <td>0.0493</td>\n      <td>0.0317</td>\n      <td>0.047</td>\n      <td>0.0658</td>\n      <td>0.1127</td>\n      <td>0.1112</td>\n      <td>0.068</td>\n      <td>0.0437</td>\n      <td>0.0254</td>\n    </tr>\n    <tr>\n      <th>3</th>\n      <td>2732</td>\n      <td>0.756972787635667</td>\n      <td>0.020071</td>\n      <td>0.8828014254570007</td>\n      <td>0.005092</td>\n      <td>0.8863636453946432</td>\n      <td>0.032614</td>\n      <td>0.077512</td>\n      <td>234</td>\n      <td>202</td>\n      <td>...</td>\n      <td>0.0598</td>\n      <td>0.0726</td>\n      <td>0.0171</td>\n      <td>0.0342</td>\n      <td>0.0769</td>\n      <td>0.1453</td>\n      <td>0.047</td>\n      <td>0.0513</td>\n      <td>0.0085</td>\n      <td>0.0128</td>\n    </tr>\n    <tr>\n      <th>4</th>\n      <td>3653</td>\n      <td>0.3800046739749389</td>\n      <td>0.045207</td>\n      <td>0.4244110181051142</td>\n      <td>0.042821</td>\n      <td>0.4917559259467655</td>\n      <td>0.077731</td>\n      <td>0.207567</td>\n      <td>18238</td>\n      <td>9839</td>\n      <td>...</td>\n      <td>0.0541</td>\n      <td>0.0518</td>\n      <td>0.0564</td>\n      <td>0.0554</td>\n      <td>0.0849</td>\n      <td>0.0954</td>\n      <td>0.0833</td>\n      <td>0.0657</td>\n      <td>0.0471</td>\n      <td>0.0595</td>\n    </tr>\n    <tr>\n      <th>...</th>\n      <td>...</td>\n      <td>...</td>\n      <td>...</td>\n      <td>...</td>\n      <td>...</td>\n      <td>...</td>\n      <td>...</td>\n      <td>...</td>\n      <td>...</td>\n      <td>...</td>\n      <td>...</td>\n      <td>...</td>\n      <td>...</td>\n      <td>...</td>\n      <td>...</td>\n      <td>...</td>\n      <td>...</td>\n      <td>...</td>\n      <td>...</td>\n      <td>...</td>\n      <td>...</td>\n    </tr>\n    <tr>\n      <th>120317</th>\n      <td>50871714</td>\n      <td>0.4170865923166275</td>\n      <td>0.035417</td>\n      <td>0.5498878061771393</td>\n      <td>0.084304</td>\n      <td>0.6624909937381744</td>\n      <td>0.075544</td>\n      <td>0.160736</td>\n      <td>26932</td>\n      <td>6837</td>\n      <td>...</td>\n      <td>0.0542</td>\n      <td>0.0529</td>\n      <td>0.0575</td>\n      <td>0.0558</td>\n      <td>0.0578</td>\n      <td>0.0573</td>\n      <td>0.0515</td>\n      <td>0.0551</td>\n      <td>0.0639</td>\n      <td>0.0641</td>\n    </tr>\n    <tr>\n      <th>120318</th>\n      <td>50900118</td>\n      <td>0.5663278949531642</td>\n      <td>0.032624</td>\n      <td>0.6803168281912804</td>\n      <td>0.049010</td>\n      <td>0.8278538286685944</td>\n      <td>0.103613</td>\n      <td>0.145418</td>\n      <td>7174</td>\n      <td>3970</td>\n      <td>...</td>\n      <td>0.0397</td>\n      <td>0.0431</td>\n      <td>0.0587</td>\n      <td>0.0733</td>\n      <td>0.0843</td>\n      <td>0.0764</td>\n      <td>0.0728</td>\n      <td>0.0643</td>\n      <td>0.0555</td>\n      <td>0.0452</td>\n    </tr>\n    <tr>\n      <th>120319</th>\n      <td>50931921</td>\n      <td>0.4831712218001485</td>\n      <td>0.032946</td>\n      <td>0.35164836049079895</td>\n      <td>0.038075</td>\n      <td>0.38235294818878174</td>\n      <td>0.012505</td>\n      <td>0.136102</td>\n      <td>998</td>\n      <td>676</td>\n      <td>...</td>\n      <td>0.0561</td>\n      <td>0.1172</td>\n      <td>0.1723</td>\n      <td>0.1062</td>\n      <td>0.0892</td>\n      <td>0.1092</td>\n      <td>0.0621</td>\n      <td>0.012</td>\n      <td>0.021</td>\n      <td>0.006</td>\n    </tr>\n    <tr>\n      <th>120320</th>\n      <td>50933471</td>\n      <td>0.5596322199950615</td>\n      <td>0.026570</td>\n      <td>0.5991988703608513</td>\n      <td>0.040033</td>\n      <td>0.6567867696285248</td>\n      <td>0.039335</td>\n      <td>0.175908</td>\n      <td>4152</td>\n      <td>2845</td>\n      <td>...</td>\n      <td>0.0417</td>\n      <td>0.0347</td>\n      <td>0.0294</td>\n      <td>0.0236</td>\n      <td>0.0508</td>\n      <td>0.0763</td>\n      <td>0.1086</td>\n      <td>0.1419</td>\n      <td>0.1387</td>\n      <td>0.1004</td>\n    </tr>\n    <tr>\n      <th>120321</th>\n      <td>50967444</td>\n      <td>0.263944713685375</td>\n      <td>0.059712</td>\n      <td>0.5129455775022507</td>\n      <td>0.115332</td>\n      <td>0.701197475194931</td>\n      <td>0.089394</td>\n      <td>0.247454</td>\n      <td>34440</td>\n      <td>10080</td>\n      <td>...</td>\n      <td>0.0153</td>\n      <td>0.0292</td>\n      <td>0.0422</td>\n      <td>0.0438</td>\n      <td>0.0547</td>\n      <td>0.0508</td>\n      <td>0.0428</td>\n      <td>0.046</td>\n      <td>0.0575</td>\n      <td>0.0568</td>\n    </tr>\n  </tbody>\n</table>\n<p>120322 rows × 43 columns</p>\n</div>"
     },
     "execution_count": 44,
     "metadata": {},
     "output_type": "execute_result"
    }
   ],
   "source": [
    "df"
   ],
   "metadata": {
    "collapsed": false,
    "pycharm": {
     "name": "#%%\n"
    }
   }
  },
  {
   "cell_type": "code",
   "execution_count": 127,
   "outputs": [
    {
     "name": "stderr",
     "output_type": "stream",
     "text": [
      "/opt/anaconda3/lib/python3.9/site-packages/pandas/core/frame.py:5039: SettingWithCopyWarning: \n",
      "A value is trying to be set on a copy of a slice from a DataFrame\n",
      "\n",
      "See the caveats in the documentation: https://pandas.pydata.org/pandas-docs/stable/user_guide/indexing.html#returning-a-view-versus-a-copy\n",
      "  return super().rename(\n"
     ]
    }
   ],
   "source": [
    "users_df = df[[\"user-id\",\"mainstreaminess_global\"]]\n",
    "users_df.rename(columns={\"user-id\": \"user_id\", \"mainstreaminess_global\": \"M_global_R_APC\"}, inplace=True)"
   ],
   "metadata": {
    "collapsed": false,
    "pycharm": {
     "name": "#%%\n"
    }
   }
  },
  {
   "cell_type": "code",
   "execution_count": 128,
   "outputs": [
    {
     "data": {
      "text/plain": "(array([1.2444e+04, 2.9155e+04, 3.2654e+04, 2.4813e+04, 1.3835e+04,\n        5.4390e+03, 1.5830e+03, 3.3000e+02, 6.4000e+01, 5.0000e+00]),\n array([2.99081533e-05, 5.44822755e-02, 1.08934643e-01, 1.63387010e-01,\n        2.17839378e-01, 2.72291745e-01, 3.26744112e-01, 3.81196480e-01,\n        4.35648847e-01, 4.90101214e-01, 5.44553582e-01]),\n <BarContainer object of 10 artists>)"
     },
     "execution_count": 128,
     "metadata": {},
     "output_type": "execute_result"
    },
    {
     "data": {
      "text/plain": "<Figure size 432x288 with 1 Axes>",
      "image/png": "[encoded data removed]"
     },
     "metadata": {
      "needs_background": "light"
     },
     "output_type": "display_data"
    }
   ],
   "source": [
    "plt.hist(users_df[\"M_global_R_APC\"])"
   ],
   "metadata": {
    "collapsed": false,
    "pycharm": {
     "name": "#%%\n"
    }
   }
  },
  {
   "cell_type": "code",
   "execution_count": 129,
   "outputs": [
    {
     "data": {
      "text/plain": "count    120322.000000\nmean          0.146643\nstd           0.075249\nmin           0.000030\n25%           0.089515\n50%           0.139031\n75%           0.195726\nmax           0.544554\nName: M_global_R_APC, dtype: float64"
     },
     "execution_count": 129,
     "metadata": {},
     "output_type": "execute_result"
    }
   ],
   "source": [
    "users_df[\"M_global_R_APC\"].describe()"
   ],
   "metadata": {
    "collapsed": false,
    "pycharm": {
     "name": "#%%\n"
    }
   }
  },
  {
   "cell_type": "code",
   "execution_count": 130,
   "outputs": [],
   "source": [
    "# Select bottom 1k, top 1k, and 1 round median\n",
    "high_main_users = users_df.nlargest(1000, \"M_global_R_APC\")\n",
    "low_main_users = users_df.nsmallest(1000, \"M_global_R_APC\")\n",
    "\n",
    "users_df_sorted = users_df.sort_values(by=[\"M_global_R_APC\"], inplace=False)\n",
    "median = int(len(users_df_sorted)/2)\n",
    "medium_main_users = users_df_sorted.iloc[(median-500):(median+500),]"
   ],
   "metadata": {
    "collapsed": false,
    "pycharm": {
     "name": "#%%\n"
    }
   }
  },
  {
   "cell_type": "code",
   "execution_count": 149,
   "outputs": [],
   "source": [
    "# alternatively select 1000 samples from the 0.2 and 0.8 percentiles\n",
    "quantile20 = users_df['M_global_R_APC'].quantile(0.2)\n",
    "quantile80 = users_df['M_global_R_APC'].quantile(0.8)\n",
    "\n",
    "low_main_users_q20 = users_df[users_df[\"M_global_R_APC\"]<quantile20].sample(1000,random_state=1)\n",
    "high_main_users_q80 = users_df[users_df[\"M_global_R_APC\"]>quantile80].sample(1000,random_state=1)\n",
    "medium_main_users_q2080 = users_df[users_df[\"M_global_R_APC\"].between(quantile20, quantile80)].sample(1000,random_state=1)"
   ],
   "metadata": {
    "collapsed": false,
    "pycharm": {
     "name": "#%%\n"
    }
   }
  },
  {
   "cell_type": "code",
   "execution_count": 169,
   "outputs": [],
   "source": [
    "# alternatively select randomly from the 0.2 and 0.8 percentiles, representing more closely to actual distribution\n",
    "low_main_users_q20_fair = users_df[users_df[\"M_global_R_APC\"]<quantile20].sample(600,random_state=1)\n",
    "high_main_users_q80_fair = users_df[users_df[\"M_global_R_APC\"]>quantile80].sample(600,random_state=1)\n",
    "medium_main_users_q2080_fair = users_df[users_df[\"M_global_R_APC\"].between(quantile20, quantile80)].sample(1800,random_state=1)"
   ],
   "metadata": {
    "collapsed": false,
    "pycharm": {
     "name": "#%%\n"
    }
   }
  },
  {
   "cell_type": "markdown",
   "source": [
    "# Export User Data"
   ],
   "metadata": {
    "collapsed": false
   }
  },
  {
   "cell_type": "code",
   "execution_count": 170,
   "outputs": [],
   "source": [
    "all_main_users = low_main_users.append([medium_main_users,high_main_users], ignore_index=True)\n",
    "all_main_users_qq = low_main_users_q20.append([medium_main_users_q2080,high_main_users_q80], ignore_index=True)\n",
    "all_main_users_qq_fair = low_main_users_q20_fair.append([medium_main_users_q2080_fair,high_main_users_q80_fair], ignore_index=True)"
   ],
   "metadata": {
    "collapsed": false,
    "pycharm": {
     "name": "#%%\n"
    }
   }
  },
  {
   "cell_type": "code",
   "execution_count": 171,
   "outputs": [],
   "source": [
    "all_main_user_index = all_main_users.set_index(\"user_id\")\n",
    "all_main_user_index_qq = all_main_users_qq.set_index(\"user_id\")\n",
    "all_main_user_index_qq_fair = all_main_users_qq_fair.set_index(\"user_id\")"
   ],
   "metadata": {
    "collapsed": false,
    "pycharm": {
     "name": "#%%\n"
    }
   }
  },
  {
   "cell_type": "code",
   "execution_count": null,
   "outputs": [],
   "source": [
    "user_events_chunked = pd.read_csv(\"data/LFM-1b_LEs.txt\",sep='\\t', chunksize=1000000, header=None, index_col=0)\n",
    "\n",
    "start_time= time.time()\n",
    "\n",
    "user_events = pd.DataFrame()\n",
    "for chunk in user_events_chunked:\n",
    "    user_events = user_events.append(chunk.merge(all_main_user_index, left_index=True, right_index=True))\n",
    "\n",
    "print(\"--- %s seconds ---\" % (time.time() - start_time))"
   ],
   "metadata": {
    "collapsed": false,
    "pycharm": {
     "name": "#%%\n"
    }
   }
  },
  {
   "cell_type": "code",
   "execution_count": 163,
   "outputs": [
    {
     "name": "stdout",
     "output_type": "stream",
     "text": [
      "--- 942.8935930728912 seconds ---\n"
     ]
    }
   ],
   "source": [
    "user_events_chunked = pd.read_csv(\"data/LFM-1b_LEs.txt\",sep='\\t', chunksize=1000000, header=None, index_col=0)\n",
    "\n",
    "start_time= time.time()\n",
    "\n",
    "user_events_qq = pd.DataFrame()\n",
    "for chunk in user_events_chunked:\n",
    "    user_events_qq = user_events_qq.append(chunk.merge(all_main_user_index_qq, left_index=True, right_index=True))\n",
    "\n",
    "print(\"--- %s seconds ---\" % (time.time() - start_time))"
   ],
   "metadata": {
    "collapsed": false,
    "pycharm": {
     "name": "#%%\n"
    }
   }
  },
  {
   "cell_type": "code",
   "execution_count": 172,
   "outputs": [
    {
     "name": "stdout",
     "output_type": "stream",
     "text": [
      "--- 934.5448429584503 seconds ---\n"
     ]
    }
   ],
   "source": [
    "user_events_chunked = pd.read_csv(\"data/LFM-1b_LEs.txt\",sep='\\t', chunksize=1000000, header=None, index_col=0)\n",
    "\n",
    "start_time= time.time()\n",
    "\n",
    "user_events_qq_fair = pd.DataFrame()\n",
    "for chunk in user_events_chunked:\n",
    "    user_events_qq_fair = user_events_qq_fair.append(chunk.merge(all_main_user_index_qq_fair, left_index=True, right_index=True))\n",
    "\n",
    "print(\"--- %s seconds ---\" % (time.time() - start_time))"
   ],
   "metadata": {
    "collapsed": false,
    "pycharm": {
     "name": "#%%\n"
    }
   }
  },
  {
   "cell_type": "code",
   "execution_count": 100,
   "outputs": [
    {
     "data": {
      "text/plain": "                  1             2             3             4  \\\ncount  3.979133e+07  3.979133e+07  3.979133e+07  3.979133e+07   \nmean   7.607818e+04  1.804936e+06  4.412417e+06  1.317632e+09   \nstd    2.988323e+05  3.470213e+06  7.369954e+06  6.188286e+07   \nmin    1.000000e+00  1.000000e+00  1.000000e+00  1.108353e+09   \n25%    2.354000e+03  3.416600e+04  1.593730e+05  1.278425e+09   \n50%    7.058000e+03  1.664870e+05  7.043400e+05  1.332896e+09   \n75%    2.782500e+04  1.409289e+06  4.593897e+06  1.366327e+09   \nmax    3.190358e+06  1.599104e+07  3.229112e+07  1.470889e+09   \n\n       mainstreaminess_global  \ncount            3.979133e+07  \nmean             3.295764e-01  \nstd              1.146728e-01  \nmin              2.990815e-05  \n25%              3.527184e-01  \n50%              3.681082e-01  \n75%              3.953795e-01  \nmax              5.445536e-01  ",
      "text/html": "<div>\n<style scoped>\n    .dataframe tbody tr th:only-of-type {\n        vertical-align: middle;\n    }\n\n    .dataframe tbody tr th {\n        vertical-align: top;\n    }\n\n    .dataframe thead th {\n        text-align: right;\n    }\n</style>\n<table border=\"1\" class=\"dataframe\">\n  <thead>\n    <tr style=\"text-align: right;\">\n      <th></th>\n      <th>1</th>\n      <th>2</th>\n      <th>3</th>\n      <th>4</th>\n      <th>mainstreaminess_global</th>\n    </tr>\n  </thead>\n  <tbody>\n    <tr>\n      <th>count</th>\n      <td>3.979133e+07</td>\n      <td>3.979133e+07</td>\n      <td>3.979133e+07</td>\n      <td>3.979133e+07</td>\n      <td>3.979133e+07</td>\n    </tr>\n    <tr>\n      <th>mean</th>\n      <td>7.607818e+04</td>\n      <td>1.804936e+06</td>\n      <td>4.412417e+06</td>\n      <td>1.317632e+09</td>\n      <td>3.295764e-01</td>\n    </tr>\n    <tr>\n      <th>std</th>\n      <td>2.988323e+05</td>\n      <td>3.470213e+06</td>\n      <td>7.369954e+06</td>\n      <td>6.188286e+07</td>\n      <td>1.146728e-01</td>\n    </tr>\n    <tr>\n      <th>min</th>\n      <td>1.000000e+00</td>\n      <td>1.000000e+00</td>\n      <td>1.000000e+00</td>\n      <td>1.108353e+09</td>\n      <td>2.990815e-05</td>\n    </tr>\n    <tr>\n      <th>25%</th>\n      <td>2.354000e+03</td>\n      <td>3.416600e+04</td>\n      <td>1.593730e+05</td>\n      <td>1.278425e+09</td>\n      <td>3.527184e-01</td>\n    </tr>\n    <tr>\n      <th>50%</th>\n      <td>7.058000e+03</td>\n      <td>1.664870e+05</td>\n      <td>7.043400e+05</td>\n      <td>1.332896e+09</td>\n      <td>3.681082e-01</td>\n    </tr>\n    <tr>\n      <th>75%</th>\n      <td>2.782500e+04</td>\n      <td>1.409289e+06</td>\n      <td>4.593897e+06</td>\n      <td>1.366327e+09</td>\n      <td>3.953795e-01</td>\n    </tr>\n    <tr>\n      <th>max</th>\n      <td>3.190358e+06</td>\n      <td>1.599104e+07</td>\n      <td>3.229112e+07</td>\n      <td>1.470889e+09</td>\n      <td>5.445536e-01</td>\n    </tr>\n  </tbody>\n</table>\n</div>"
     },
     "execution_count": 100,
     "metadata": {},
     "output_type": "execute_result"
    }
   ],
   "source": [
    "user_events.describe()"
   ],
   "metadata": {
    "collapsed": false,
    "pycharm": {
     "name": "#%%\n"
    }
   }
  },
  {
   "cell_type": "code",
   "execution_count": 159,
   "outputs": [
    {
     "data": {
      "text/plain": "                  1             2             3             4  M_global_R_APC\ncount  5.856000e+03  5.856000e+03  5.856000e+03  5.856000e+03     5856.000000\nmean   9.197002e+04  2.340930e+06  7.167101e+06  1.375344e+09        0.151128\nstd    3.382825e+05  4.420211e+06  1.074637e+07  2.016474e+07        0.046500\nmin    1.600000e+01  4.600000e+01  1.010000e+02  1.323396e+09        0.015501\n25%    2.788000e+03  3.355600e+04  1.804150e+05  1.355888e+09        0.092486\n50%    7.908000e+03  1.234195e+05  7.287260e+05  1.383276e+09        0.184476\n75%    2.374100e+04  1.819212e+06  1.011345e+07  1.392690e+09        0.184476\nmax    3.190330e+06  1.599084e+07  3.229077e+07  1.408394e+09        0.184476",
      "text/html": "<div>\n<style scoped>\n    .dataframe tbody tr th:only-of-type {\n        vertical-align: middle;\n    }\n\n    .dataframe tbody tr th {\n        vertical-align: top;\n    }\n\n    .dataframe thead th {\n        text-align: right;\n    }\n</style>\n<table border=\"1\" class=\"dataframe\">\n  <thead>\n    <tr style=\"text-align: right;\">\n      <th></th>\n      <th>1</th>\n      <th>2</th>\n      <th>3</th>\n      <th>4</th>\n      <th>M_global_R_APC</th>\n    </tr>\n  </thead>\n  <tbody>\n    <tr>\n      <th>count</th>\n      <td>5.856000e+03</td>\n      <td>5.856000e+03</td>\n      <td>5.856000e+03</td>\n      <td>5.856000e+03</td>\n      <td>5856.000000</td>\n    </tr>\n    <tr>\n      <th>mean</th>\n      <td>9.197002e+04</td>\n      <td>2.340930e+06</td>\n      <td>7.167101e+06</td>\n      <td>1.375344e+09</td>\n      <td>0.151128</td>\n    </tr>\n    <tr>\n      <th>std</th>\n      <td>3.382825e+05</td>\n      <td>4.420211e+06</td>\n      <td>1.074637e+07</td>\n      <td>2.016474e+07</td>\n      <td>0.046500</td>\n    </tr>\n    <tr>\n      <th>min</th>\n      <td>1.600000e+01</td>\n      <td>4.600000e+01</td>\n      <td>1.010000e+02</td>\n      <td>1.323396e+09</td>\n      <td>0.015501</td>\n    </tr>\n    <tr>\n      <th>25%</th>\n      <td>2.788000e+03</td>\n      <td>3.355600e+04</td>\n      <td>1.804150e+05</td>\n      <td>1.355888e+09</td>\n      <td>0.092486</td>\n    </tr>\n    <tr>\n      <th>50%</th>\n      <td>7.908000e+03</td>\n      <td>1.234195e+05</td>\n      <td>7.287260e+05</td>\n      <td>1.383276e+09</td>\n      <td>0.184476</td>\n    </tr>\n    <tr>\n      <th>75%</th>\n      <td>2.374100e+04</td>\n      <td>1.819212e+06</td>\n      <td>1.011345e+07</td>\n      <td>1.392690e+09</td>\n      <td>0.184476</td>\n    </tr>\n    <tr>\n      <th>max</th>\n      <td>3.190330e+06</td>\n      <td>1.599084e+07</td>\n      <td>3.229077e+07</td>\n      <td>1.408394e+09</td>\n      <td>0.184476</td>\n    </tr>\n  </tbody>\n</table>\n</div>"
     },
     "execution_count": 159,
     "metadata": {},
     "output_type": "execute_result"
    }
   ],
   "source": [
    "user_events_qq.describe()"
   ],
   "metadata": {
    "collapsed": false,
    "pycharm": {
     "name": "#%%\n"
    }
   }
  },
  {
   "cell_type": "code",
   "execution_count": 164,
   "outputs": [
    {
     "data": {
      "text/plain": "                  1             2             3             4  M_global_R_APC\ncount  2.735735e+07  2.735735e+07  2.735735e+07  2.735735e+07    2.735735e+07\nmean   8.564062e+04  1.708541e+06  4.096024e+06  1.329892e+09    1.660327e-01\nstd    2.990601e+05  3.233599e+06  6.925700e+06  5.079784e+07    5.701544e-02\nmin    1.000000e+00  1.000000e+00  1.000000e+00  1.108363e+09    6.806535e-03\n25%    2.789000e+03  3.837600e+04  1.981040e+05  1.305610e+09    1.264560e-01\n50%    1.000500e+04  2.122440e+05  7.986380e+05  1.338353e+09    1.639033e-01\n75%    3.896100e+04  1.451006e+06  4.217522e+06  1.366670e+09    1.968809e-01\nmax    3.190330e+06  1.599084e+07  3.229077e+07  1.409637e+09    4.025380e-01",
      "text/html": "<div>\n<style scoped>\n    .dataframe tbody tr th:only-of-type {\n        vertical-align: middle;\n    }\n\n    .dataframe tbody tr th {\n        vertical-align: top;\n    }\n\n    .dataframe thead th {\n        text-align: right;\n    }\n</style>\n<table border=\"1\" class=\"dataframe\">\n  <thead>\n    <tr style=\"text-align: right;\">\n      <th></th>\n      <th>1</th>\n      <th>2</th>\n      <th>3</th>\n      <th>4</th>\n      <th>M_global_R_APC</th>\n    </tr>\n  </thead>\n  <tbody>\n    <tr>\n      <th>count</th>\n      <td>2.735735e+07</td>\n      <td>2.735735e+07</td>\n      <td>2.735735e+07</td>\n      <td>2.735735e+07</td>\n      <td>2.735735e+07</td>\n    </tr>\n    <tr>\n      <th>mean</th>\n      <td>8.564062e+04</td>\n      <td>1.708541e+06</td>\n      <td>4.096024e+06</td>\n      <td>1.329892e+09</td>\n      <td>1.660327e-01</td>\n    </tr>\n    <tr>\n      <th>std</th>\n      <td>2.990601e+05</td>\n      <td>3.233599e+06</td>\n      <td>6.925700e+06</td>\n      <td>5.079784e+07</td>\n      <td>5.701544e-02</td>\n    </tr>\n    <tr>\n      <th>min</th>\n      <td>1.000000e+00</td>\n      <td>1.000000e+00</td>\n      <td>1.000000e+00</td>\n      <td>1.108363e+09</td>\n      <td>6.806535e-03</td>\n    </tr>\n    <tr>\n      <th>25%</th>\n      <td>2.789000e+03</td>\n      <td>3.837600e+04</td>\n      <td>1.981040e+05</td>\n      <td>1.305610e+09</td>\n      <td>1.264560e-01</td>\n    </tr>\n    <tr>\n      <th>50%</th>\n      <td>1.000500e+04</td>\n      <td>2.122440e+05</td>\n      <td>7.986380e+05</td>\n      <td>1.338353e+09</td>\n      <td>1.639033e-01</td>\n    </tr>\n    <tr>\n      <th>75%</th>\n      <td>3.896100e+04</td>\n      <td>1.451006e+06</td>\n      <td>4.217522e+06</td>\n      <td>1.366670e+09</td>\n      <td>1.968809e-01</td>\n    </tr>\n    <tr>\n      <th>max</th>\n      <td>3.190330e+06</td>\n      <td>1.599084e+07</td>\n      <td>3.229077e+07</td>\n      <td>1.409637e+09</td>\n      <td>4.025380e-01</td>\n    </tr>\n  </tbody>\n</table>\n</div>"
     },
     "execution_count": 164,
     "metadata": {},
     "output_type": "execute_result"
    }
   ],
   "source": [
    "user_events_qq_fair.describe()"
   ],
   "metadata": {
    "collapsed": false,
    "pycharm": {
     "name": "#%%\n"
    }
   }
  },
  {
   "cell_type": "code",
   "execution_count": 121,
   "outputs": [],
   "source": [
    "user_events_noMS = user_events.drop(\"M_global_R_APC\", axis=1)\n",
    "\n",
    "medium_main_users.to_csv('data/medium_main_users.txt', header=True, index=None, sep=',', mode='w')\n",
    "low_main_users.to_csv('data/low_main_users.txt', header=True, index=None, sep=',', mode='w')\n",
    "high_main_users.to_csv('data/high_main_users.txt', header=True, index=None, sep=',', mode='w')\n",
    "\n",
    "user_events_noMS.to_csv('data/user_events.txt', header=False, index=True, sep='\\t', mode='w')"
   ],
   "metadata": {
    "collapsed": false,
    "pycharm": {
     "name": "#%%\n"
    }
   }
  },
  {
   "cell_type": "code",
   "execution_count": 167,
   "outputs": [],
   "source": [
    "user_events_noMS_qq = user_events_qq.drop(\"M_global_R_APC\", axis=1)\n",
    "\n",
    "medium_main_users_q2080.to_csv('data/medium_main_users_qq.txt', header=True, index=None, sep=',', mode='w')\n",
    "low_main_users_q20.to_csv('data/low_main_users_qq.txt', header=True, index=None, sep=',', mode='w')\n",
    "high_main_users_q80.to_csv('data/high_main_users_qq.txt', header=True, index=None, sep=',', mode='w')\n",
    "\n",
    "user_events_noMS_qq.to_csv('data/user_events_qq.txt', header=False, index=True, sep='\\t', mode='w')"
   ],
   "metadata": {
    "collapsed": false,
    "pycharm": {
     "name": "#%%\n"
    }
   }
  },
  {
   "cell_type": "code",
   "execution_count": 173,
   "outputs": [],
   "source": [
    "user_events_noMS_qq_fair = user_events_qq_fair.drop(\"M_global_R_APC\", axis=1)\n",
    "\n",
    "medium_main_users_q2080_fair.to_csv('data/medium_main_users_qq_fair.txt', header=True, index=None, sep=',', mode='w')\n",
    "low_main_users_q20_fair.to_csv('data/low_main_users_qq_fair.txt', header=True, index=None, sep=',', mode='w')\n",
    "high_main_users_q80_fair.to_csv('data/high_main_users_qq_fair.txt', header=True, index=None, sep=',', mode='w')\n",
    "\n",
    "user_events_noMS_qq_fair.to_csv('data/user_events_qq_fair.txt', header=False, index=True, sep='\\t', mode='w')"
   ],
   "metadata": {
    "collapsed": false,
    "pycharm": {
     "name": "#%%\n"
    }
   }
  },
  {
   "cell_type": "code",
   "execution_count": null,
   "outputs": [],
   "source": [],
   "metadata": {
    "collapsed": false,
    "pycharm": {
     "name": "#%%\n"
    }
   }
  }
 ],
 "metadata": {
  "kernelspec": {
   "display_name": "Python 3",
   "language": "python",
   "name": "python3"
  },
  "language_info": {
   "codemirror_mode": {
    "name": "ipython",
    "version": 2
   },
   "file_extension": ".py",
   "mimetype": "text/x-python",
   "name": "python",
   "nbconvert_exporter": "python",
   "pygments_lexer": "ipython2",
   "version": "2.7.6"
  }
 },
 "nbformat": 4,
 "nbformat_minor": 0
}