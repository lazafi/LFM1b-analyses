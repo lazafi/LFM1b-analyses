{
 "cells": [
  {
   "cell_type": "code",
   "execution_count": 1,
   "outputs": [],
   "source": [
    "import pandas as pd\n",
    "from matplotlib import pyplot as plt"
   ],
   "metadata": {
    "collapsed": false,
    "pycharm": {
     "name": "#%%\n"
    }
   }
  },
  {
   "cell_type": "markdown",
   "source": [
    "# Reading LFM user data"
   ],
   "metadata": {
    "collapsed": false
   }
  },
  {
   "cell_type": "code",
   "execution_count": null,
   "outputs": [],
   "source": [
    "path_theirs = \"LFM1b-analyses-master/data/\"\n",
    "high_users = pd.read_csv(path_theirs+\"high_main_users.txt\", sep=',').set_index('user_id')\n",
    "medium_users = pd.read_csv(path_theirs+\"medium_main_users.txt\", sep=',').set_index('user_id')\n",
    "low_users = pd.read_csv(path_theirs+\"low_main_users.txt\", sep=',').set_index('user_id')\n",
    "\n",
    "df_users_theirs = pd.concat([low_users, medium_users, high_users])"
   ],
   "metadata": {
    "collapsed": false,
    "pycharm": {
     "name": "#%%\n"
    }
   }
  },
  {
   "cell_type": "code",
   "execution_count": 6,
   "outputs": [],
   "source": [],
   "metadata": {
    "collapsed": false,
    "pycharm": {
     "name": "#%%\n"
    }
   }
  },
  {
   "cell_type": "code",
   "execution_count": 8,
   "outputs": [
    {
     "data": {
      "text/plain": "(array([  9.,  50., 296., 645., 746., 254., 811., 162.,  22.,   5.]),\n array([-0.26007365, -0.17078848, -0.0815033 ,  0.00778187,  0.09706705,\n         0.18635222,  0.27563739,  0.36492257,  0.45420774,  0.54349292,\n         0.63277809]),\n <BarContainer object of 10 artists>)"
     },
     "execution_count": 8,
     "metadata": {},
     "output_type": "execute_result"
    },
    {
     "data": {
      "text/plain": "<Figure size 432x288 with 1 Axes>",
      "image/png": "[encoded data removed]"
     },
     "metadata": {
      "needs_background": "light"
     },
     "output_type": "display_data"
    }
   ],
   "source": [
    "plt.hist(df_users_theirs)"
   ],
   "metadata": {
    "collapsed": false,
    "pycharm": {
     "name": "#%%\n"
    }
   }
  },
  {
   "cell_type": "markdown",
   "source": [],
   "metadata": {
    "collapsed": false
   }
  },
  {
   "cell_type": "markdown",
   "source": [
    "# Reading our data"
   ],
   "metadata": {
    "collapsed": false
   }
  },
  {
   "cell_type": "code",
   "execution_count": 22,
   "outputs": [],
   "source": [
    "path_ours = \"data/\"\n",
    "high_users = pd.read_csv(path_ours+\"high_main_users.txt\", sep=',').set_index('user_id')\n",
    "medium_users = pd.read_csv(path_ours+\"medium_main_users.txt\", sep=',').set_index('user_id')\n",
    "low_users = pd.read_csv(path_ours+\"low_main_users.txt\", sep=',').set_index('user_id')\n",
    "\n",
    "df_users_ours = pd.concat([low_users, medium_users, high_users])"
   ],
   "metadata": {
    "collapsed": false,
    "pycharm": {
     "name": "#%%\n"
    }
   }
  },
  {
   "cell_type": "code",
   "execution_count": 23,
   "outputs": [],
   "source": [
    "\n",
    "high_users = pd.read_csv(path_ours+\"high_main_users_qq.txt\", sep=',').set_index('user_id')\n",
    "medium_users = pd.read_csv(path_ours+\"medium_main_users_qq.txt\", sep=',').set_index('user_id')\n",
    "low_users = pd.read_csv(path_ours+\"low_main_users_qq.txt\", sep=',').set_index('user_id')\n",
    "\n",
    "df_users_ours_qq = pd.concat([low_users, medium_users, high_users])"
   ],
   "metadata": {
    "collapsed": false,
    "pycharm": {
     "name": "#%%\n"
    }
   }
  },
  {
   "cell_type": "code",
   "execution_count": 24,
   "outputs": [],
   "source": [
    "\n",
    "high_users = pd.read_csv(path_ours+\"high_main_users_qq_fair.txt\", sep=',').set_index('user_id')\n",
    "medium_users = pd.read_csv(path_ours+\"medium_main_users_qq_fair.txt\", sep=',').set_index('user_id')\n",
    "low_users = pd.read_csv(path_ours+\"low_main_users_qq_fair.txt\", sep=',').set_index('user_id')\n",
    "\n",
    "df_users_ours_qq_fair = pd.concat([low_users, medium_users, high_users])"
   ],
   "metadata": {
    "collapsed": false,
    "pycharm": {
     "name": "#%%\n"
    }
   }
  },
  {
   "cell_type": "code",
   "execution_count": 28,
   "outputs": [
    {
     "data": {
      "text/plain": "(array([1000.,    0., 1000.,    0.,    0.,    0.,  601.,  330.,   64.,\n           5.]),\n array([2.99081533e-05, 5.44822755e-02, 1.08934643e-01, 1.63387010e-01,\n        2.17839378e-01, 2.72291745e-01, 3.26744112e-01, 3.81196480e-01,\n        4.35648847e-01, 4.90101214e-01, 5.44553582e-01]),\n <BarContainer object of 10 artists>)"
     },
     "execution_count": 28,
     "metadata": {},
     "output_type": "execute_result"
    },
    {
     "data": {
      "text/plain": "<Figure size 432x288 with 1 Axes>",
      "image/png": "[encoded data removed]"
     },
     "metadata": {
      "needs_background": "light"
     },
     "output_type": "display_data"
    }
   ],
   "source": [
    "plt.hist(df_users_ours)"
   ],
   "metadata": {
    "collapsed": false,
    "pycharm": {
     "name": "#%%\n"
    }
   }
  },
  {
   "cell_type": "code",
   "execution_count": 27,
   "outputs": [
    {
     "data": {
      "text/plain": "(array([ 76., 277., 836., 846., 697., 161.,  59.,  33.,  12.,   3.]),\n array([0.00680653, 0.04637968, 0.08595283, 0.12552598, 0.16509912,\n        0.20467227, 0.24424542, 0.28381857, 0.32339171, 0.36296486,\n        0.40253801]),\n <BarContainer object of 10 artists>)"
     },
     "execution_count": 27,
     "metadata": {},
     "output_type": "execute_result"
    },
    {
     "data": {
      "text/plain": "<Figure size 432x288 with 1 Axes>",
      "image/png": "[encoded data removed]"
     },
     "metadata": {
      "needs_background": "light"
     },
     "output_type": "display_data"
    }
   ],
   "source": [
    "plt.hist(df_users_ours_qq_fair)"
   ],
   "metadata": {
    "collapsed": false,
    "pycharm": {
     "name": "#%%\n"
    }
   }
  },
  {
   "cell_type": "code",
   "execution_count": 26,
   "outputs": [
    {
     "data": {
      "text/plain": "(array([358., 714., 344., 334., 324., 530., 243., 107.,  39.,   7.]),\n array([0.00146946, 0.04416489, 0.08686031, 0.12955573, 0.17225116,\n        0.21494658, 0.257642  , 0.30033743, 0.34303285, 0.38572828,\n        0.4284237 ]),\n <BarContainer object of 10 artists>)"
     },
     "execution_count": 26,
     "metadata": {},
     "output_type": "execute_result"
    },
    {
     "data": {
      "text/plain": "<Figure size 432x288 with 1 Axes>",
      "image/png": "[encoded data removed]"
     },
     "metadata": {
      "needs_background": "light"
     },
     "output_type": "display_data"
    }
   ],
   "source": [
    "plt.hist(df_users_ours_qq)"
   ],
   "metadata": {
    "collapsed": false,
    "pycharm": {
     "name": "#%%\n"
    }
   }
  },
  {
   "cell_type": "markdown",
   "source": [
    "# Plotting histogram"
   ],
   "metadata": {
    "collapsed": false
   }
  },
  {
   "cell_type": "code",
   "execution_count": 35,
   "outputs": [
    {
     "data": {
      "text/plain": "<matplotlib.legend.Legend at 0x7fd8c91e5b50>"
     },
     "execution_count": 35,
     "metadata": {},
     "output_type": "execute_result"
    },
    {
     "data": {
      "text/plain": "<Figure size 576x432 with 1 Axes>",
      "image/png": "[encoded data removed]"
     },
     "metadata": {
      "needs_background": "light"
     },
     "output_type": "display_data"
    }
   ],
   "source": [
    "plt.figure(figsize=(8,6))\n",
    "plt.hist(df_users_ours, alpha=0.5, label=\"Top/Bottom 1k\")\n",
    "plt.hist(df_users_theirs, alpha=0.5, label=\"Original Paper\")\n",
    "plt.xlabel(\"Mainstreaminess Score\", size=14)\n",
    "plt.ylabel(\"Number of Users\", size=14)\n",
    "plt.title(\"Multiple Histograms Comparing Input Distributions\")\n",
    "plt.legend(loc='upper right')"
   ],
   "metadata": {
    "collapsed": false,
    "pycharm": {
     "name": "#%%\n"
    }
   }
  },
  {
   "cell_type": "code",
   "execution_count": 36,
   "outputs": [
    {
     "data": {
      "text/plain": "<matplotlib.legend.Legend at 0x7fd8986747c0>"
     },
     "execution_count": 36,
     "metadata": {},
     "output_type": "execute_result"
    },
    {
     "data": {
      "text/plain": "<Figure size 576x432 with 1 Axes>",
      "image/png": "[encoded data removed]"
     },
     "metadata": {
      "needs_background": "light"
     },
     "output_type": "display_data"
    }
   ],
   "source": [
    "plt.figure(figsize=(8,6))\n",
    "plt.hist(df_users_ours_qq, alpha=0.5, label=\"Q20/Q80\", color=\"red\")\n",
    "plt.hist(df_users_ours_qq_fair, alpha=0.5, label=\"Q20/Q80 adapted\", color = \"purple\")\n",
    "plt.xlabel(\"Mainstreaminess Score\", size=14)\n",
    "plt.ylabel(\"Number of Users\", size=14)\n",
    "plt.title(\"Multiple Histograms Comparing Input Distributions\")\n",
    "plt.legend(loc='upper right')"
   ],
   "metadata": {
    "collapsed": false,
    "pycharm": {
     "name": "#%%\n"
    }
   }
  },
  {
   "cell_type": "code",
   "execution_count": null,
   "outputs": [],
   "source": [],
   "metadata": {
    "collapsed": false,
    "pycharm": {
     "name": "#%%\n"
    }
   }
  }
 ],
 "metadata": {
  "kernelspec": {
   "display_name": "Python 3",
   "language": "python",
   "name": "python3"
  },
  "language_info": {
   "codemirror_mode": {
    "name": "ipython",
    "version": 2
   },
   "file_extension": ".py",
   "mimetype": "text/x-python",
   "name": "python",
   "nbconvert_exporter": "python",
   "pygments_lexer": "ipython2",
   "version": "2.7.6"
  }
 },
 "nbformat": 4,
 "nbformat_minor": 0
}