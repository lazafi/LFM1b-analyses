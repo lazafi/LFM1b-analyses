{
 "cells": [
  {
   "cell_type": "code",
   "execution_count": 23,
   "metadata": {
    "cell_id": "b125cfd9-016a-4235-b83b-c3f07ed22f47",
    "collapsed": false,
    "deepnote_cell_type": "code",
    "pycharm": {
     "name": "#%%\n"
    }
   },
   "outputs": [],
   "source": [
    "import pandas as pd\n",
    "import numpy as np\n",
    "from matplotlib import pyplot as plt\n",
    "import scipy.io\n",
    "import time"
   ]
  },
  {
   "cell_type": "code",
   "execution_count": 24,
   "metadata": {
    "cell_id": "00001-83be241a-8c54-4466-bead-74186a20f75f",
    "collapsed": true,
    "deepnote_cell_type": "code"
   },
   "outputs": [],
   "source": [
    "df = pd.read_csv(\"data/LFM-1b_users_additional.txt\",sep='\\t')"
   ]
  },
  {
   "cell_type": "code",
   "execution_count": 25,
   "metadata": {
    "cell_id": "00002-cf8384ba-21bd-49dc-aada-766d3cbf45d0",
    "collapsed": false,
    "deepnote_cell_type": "code",
    "deepnote_output_heights": [
     390
    ],
    "pycharm": {
     "name": "#%%\n"
    }
   },
   "outputs": [
    {
     "data": {
      "text/html": [
       "<div>\n",
       "<style scoped>\n",
       "    .dataframe tbody tr th:only-of-type {\n",
       "        vertical-align: middle;\n",
       "    }\n",
       "\n",
       "    .dataframe tbody tr th {\n",
       "        vertical-align: top;\n",
       "    }\n",
       "\n",
       "    .dataframe thead th {\n",
       "        text-align: right;\n",
       "    }\n",
       "</style>\n",
       "<table border=\"1\" class=\"dataframe\">\n",
       "  <thead>\n",
       "    <tr style=\"text-align: right;\">\n",
       "      <th></th>\n",
       "      <th>user-id</th>\n",
       "      <th>novelty_artist_avg_month</th>\n",
       "      <th>novelty_artist_avg_6months</th>\n",
       "      <th>novelty_artist_avg_year</th>\n",
       "      <th>mainstreaminess_avg_month</th>\n",
       "      <th>mainstreaminess_avg_6months</th>\n",
       "      <th>mainstreaminess_avg_year</th>\n",
       "      <th>mainstreaminess_global</th>\n",
       "      <th>cnt_listeningevents</th>\n",
       "      <th>cnt_distinct_tracks</th>\n",
       "      <th>...</th>\n",
       "      <th>relative_le_per_hour14</th>\n",
       "      <th>relative_le_per_hour15</th>\n",
       "      <th>relative_le_per_hour16</th>\n",
       "      <th>relative_le_per_hour17</th>\n",
       "      <th>relative_le_per_hour18</th>\n",
       "      <th>relative_le_per_hour19</th>\n",
       "      <th>relative_le_per_hour20</th>\n",
       "      <th>relative_le_per_hour21</th>\n",
       "      <th>relative_le_per_hour22</th>\n",
       "      <th>relative_le_per_hour23</th>\n",
       "    </tr>\n",
       "  </thead>\n",
       "  <tbody>\n",
       "    <tr>\n",
       "      <th>0</th>\n",
       "      <td>384</td>\n",
       "      <td>0.27662877856116547</td>\n",
       "      <td>0.044439</td>\n",
       "      <td>0.3094285950064659</td>\n",
       "      <td>0.024655</td>\n",
       "      <td>0.36734262481331825</td>\n",
       "      <td>0.000000</td>\n",
       "      <td>0.124903</td>\n",
       "      <td>17198</td>\n",
       "      <td>3601</td>\n",
       "      <td>...</td>\n",
       "      <td>0.0279</td>\n",
       "      <td>0.041</td>\n",
       "      <td>0.0811</td>\n",
       "      <td>0.1506</td>\n",
       "      <td>0.0377</td>\n",
       "      <td>0.0298</td>\n",
       "      <td>0.0132</td>\n",
       "      <td>0.0007</td>\n",
       "      <td>0.0001</td>\n",
       "      <td>0.0151</td>\n",
       "    </tr>\n",
       "    <tr>\n",
       "      <th>1</th>\n",
       "      <td>1206</td>\n",
       "      <td>0.43722350196912885</td>\n",
       "      <td>0.109671</td>\n",
       "      <td>0.5137868970632553</td>\n",
       "      <td>0.181991</td>\n",
       "      <td>0.3913043439388275</td>\n",
       "      <td>0.000000</td>\n",
       "      <td>0.343855</td>\n",
       "      <td>17967</td>\n",
       "      <td>10990</td>\n",
       "      <td>...</td>\n",
       "      <td>0.0016</td>\n",
       "      <td>0.0115</td>\n",
       "      <td>0.0276</td>\n",
       "      <td>0.0662</td>\n",
       "      <td>0.079</td>\n",
       "      <td>0.0838</td>\n",
       "      <td>0.0995</td>\n",
       "      <td>0.1195</td>\n",
       "      <td>0.0968</td>\n",
       "      <td>0.0839</td>\n",
       "    </tr>\n",
       "    <tr>\n",
       "      <th>2</th>\n",
       "      <td>2622</td>\n",
       "      <td>0.6048279783555439</td>\n",
       "      <td>0.043923</td>\n",
       "      <td>0.6989826304571969</td>\n",
       "      <td>0.052310</td>\n",
       "      <td>0.7800639122724533</td>\n",
       "      <td>0.079669</td>\n",
       "      <td>0.245980</td>\n",
       "      <td>3939</td>\n",
       "      <td>3084</td>\n",
       "      <td>...</td>\n",
       "      <td>0.132</td>\n",
       "      <td>0.0493</td>\n",
       "      <td>0.0317</td>\n",
       "      <td>0.047</td>\n",
       "      <td>0.0658</td>\n",
       "      <td>0.1127</td>\n",
       "      <td>0.1112</td>\n",
       "      <td>0.068</td>\n",
       "      <td>0.0437</td>\n",
       "      <td>0.0254</td>\n",
       "    </tr>\n",
       "    <tr>\n",
       "      <th>3</th>\n",
       "      <td>2732</td>\n",
       "      <td>0.756972787635667</td>\n",
       "      <td>0.020071</td>\n",
       "      <td>0.8828014254570007</td>\n",
       "      <td>0.005092</td>\n",
       "      <td>0.8863636453946432</td>\n",
       "      <td>0.032614</td>\n",
       "      <td>0.077512</td>\n",
       "      <td>234</td>\n",
       "      <td>202</td>\n",
       "      <td>...</td>\n",
       "      <td>0.0598</td>\n",
       "      <td>0.0726</td>\n",
       "      <td>0.0171</td>\n",
       "      <td>0.0342</td>\n",
       "      <td>0.0769</td>\n",
       "      <td>0.1453</td>\n",
       "      <td>0.047</td>\n",
       "      <td>0.0513</td>\n",
       "      <td>0.0085</td>\n",
       "      <td>0.0128</td>\n",
       "    </tr>\n",
       "    <tr>\n",
       "      <th>4</th>\n",
       "      <td>3653</td>\n",
       "      <td>0.3800046739749389</td>\n",
       "      <td>0.045207</td>\n",
       "      <td>0.4244110181051142</td>\n",
       "      <td>0.042821</td>\n",
       "      <td>0.4917559259467655</td>\n",
       "      <td>0.077731</td>\n",
       "      <td>0.207567</td>\n",
       "      <td>18238</td>\n",
       "      <td>9839</td>\n",
       "      <td>...</td>\n",
       "      <td>0.0541</td>\n",
       "      <td>0.0518</td>\n",
       "      <td>0.0564</td>\n",
       "      <td>0.0554</td>\n",
       "      <td>0.0849</td>\n",
       "      <td>0.0954</td>\n",
       "      <td>0.0833</td>\n",
       "      <td>0.0657</td>\n",
       "      <td>0.0471</td>\n",
       "      <td>0.0595</td>\n",
       "    </tr>\n",
       "    <tr>\n",
       "      <th>...</th>\n",
       "      <td>...</td>\n",
       "      <td>...</td>\n",
       "      <td>...</td>\n",
       "      <td>...</td>\n",
       "      <td>...</td>\n",
       "      <td>...</td>\n",
       "      <td>...</td>\n",
       "      <td>...</td>\n",
       "      <td>...</td>\n",
       "      <td>...</td>\n",
       "      <td>...</td>\n",
       "      <td>...</td>\n",
       "      <td>...</td>\n",
       "      <td>...</td>\n",
       "      <td>...</td>\n",
       "      <td>...</td>\n",
       "      <td>...</td>\n",
       "      <td>...</td>\n",
       "      <td>...</td>\n",
       "      <td>...</td>\n",
       "      <td>...</td>\n",
       "    </tr>\n",
       "    <tr>\n",
       "      <th>120317</th>\n",
       "      <td>50871714</td>\n",
       "      <td>0.4170865923166275</td>\n",
       "      <td>0.035417</td>\n",
       "      <td>0.5498878061771393</td>\n",
       "      <td>0.084304</td>\n",
       "      <td>0.6624909937381744</td>\n",
       "      <td>0.075544</td>\n",
       "      <td>0.160736</td>\n",
       "      <td>26932</td>\n",
       "      <td>6837</td>\n",
       "      <td>...</td>\n",
       "      <td>0.0542</td>\n",
       "      <td>0.0529</td>\n",
       "      <td>0.0575</td>\n",
       "      <td>0.0558</td>\n",
       "      <td>0.0578</td>\n",
       "      <td>0.0573</td>\n",
       "      <td>0.0515</td>\n",
       "      <td>0.0551</td>\n",
       "      <td>0.0639</td>\n",
       "      <td>0.0641</td>\n",
       "    </tr>\n",
       "    <tr>\n",
       "      <th>120318</th>\n",
       "      <td>50900118</td>\n",
       "      <td>0.5663278949531642</td>\n",
       "      <td>0.032624</td>\n",
       "      <td>0.6803168281912804</td>\n",
       "      <td>0.049010</td>\n",
       "      <td>0.8278538286685944</td>\n",
       "      <td>0.103613</td>\n",
       "      <td>0.145418</td>\n",
       "      <td>7174</td>\n",
       "      <td>3970</td>\n",
       "      <td>...</td>\n",
       "      <td>0.0397</td>\n",
       "      <td>0.0431</td>\n",
       "      <td>0.0587</td>\n",
       "      <td>0.0733</td>\n",
       "      <td>0.0843</td>\n",
       "      <td>0.0764</td>\n",
       "      <td>0.0728</td>\n",
       "      <td>0.0643</td>\n",
       "      <td>0.0555</td>\n",
       "      <td>0.0452</td>\n",
       "    </tr>\n",
       "    <tr>\n",
       "      <th>120319</th>\n",
       "      <td>50931921</td>\n",
       "      <td>0.4831712218001485</td>\n",
       "      <td>0.032946</td>\n",
       "      <td>0.35164836049079895</td>\n",
       "      <td>0.038075</td>\n",
       "      <td>0.38235294818878174</td>\n",
       "      <td>0.012505</td>\n",
       "      <td>0.136102</td>\n",
       "      <td>998</td>\n",
       "      <td>676</td>\n",
       "      <td>...</td>\n",
       "      <td>0.0561</td>\n",
       "      <td>0.1172</td>\n",
       "      <td>0.1723</td>\n",
       "      <td>0.1062</td>\n",
       "      <td>0.0892</td>\n",
       "      <td>0.1092</td>\n",
       "      <td>0.0621</td>\n",
       "      <td>0.012</td>\n",
       "      <td>0.021</td>\n",
       "      <td>0.006</td>\n",
       "    </tr>\n",
       "    <tr>\n",
       "      <th>120320</th>\n",
       "      <td>50933471</td>\n",
       "      <td>0.5596322199950615</td>\n",
       "      <td>0.026570</td>\n",
       "      <td>0.5991988703608513</td>\n",
       "      <td>0.040033</td>\n",
       "      <td>0.6567867696285248</td>\n",
       "      <td>0.039335</td>\n",
       "      <td>0.175908</td>\n",
       "      <td>4152</td>\n",
       "      <td>2845</td>\n",
       "      <td>...</td>\n",
       "      <td>0.0417</td>\n",
       "      <td>0.0347</td>\n",
       "      <td>0.0294</td>\n",
       "      <td>0.0236</td>\n",
       "      <td>0.0508</td>\n",
       "      <td>0.0763</td>\n",
       "      <td>0.1086</td>\n",
       "      <td>0.1419</td>\n",
       "      <td>0.1387</td>\n",
       "      <td>0.1004</td>\n",
       "    </tr>\n",
       "    <tr>\n",
       "      <th>120321</th>\n",
       "      <td>50967444</td>\n",
       "      <td>0.263944713685375</td>\n",
       "      <td>0.059712</td>\n",
       "      <td>0.5129455775022507</td>\n",
       "      <td>0.115332</td>\n",
       "      <td>0.701197475194931</td>\n",
       "      <td>0.089394</td>\n",
       "      <td>0.247454</td>\n",
       "      <td>34440</td>\n",
       "      <td>10080</td>\n",
       "      <td>...</td>\n",
       "      <td>0.0153</td>\n",
       "      <td>0.0292</td>\n",
       "      <td>0.0422</td>\n",
       "      <td>0.0438</td>\n",
       "      <td>0.0547</td>\n",
       "      <td>0.0508</td>\n",
       "      <td>0.0428</td>\n",
       "      <td>0.046</td>\n",
       "      <td>0.0575</td>\n",
       "      <td>0.0568</td>\n",
       "    </tr>\n",
       "  </tbody>\n",
       "</table>\n",
       "<p>120322 rows × 43 columns</p>\n",
       "</div>"
      ],
      "text/plain": [
       "         user-id novelty_artist_avg_month  novelty_artist_avg_6months  \\\n",
       "0            384      0.27662877856116547                    0.044439   \n",
       "1           1206      0.43722350196912885                    0.109671   \n",
       "2           2622       0.6048279783555439                    0.043923   \n",
       "3           2732        0.756972787635667                    0.020071   \n",
       "4           3653       0.3800046739749389                    0.045207   \n",
       "...          ...                      ...                         ...   \n",
       "120317  50871714       0.4170865923166275                    0.035417   \n",
       "120318  50900118       0.5663278949531642                    0.032624   \n",
       "120319  50931921       0.4831712218001485                    0.032946   \n",
       "120320  50933471       0.5596322199950615                    0.026570   \n",
       "120321  50967444        0.263944713685375                    0.059712   \n",
       "\n",
       "       novelty_artist_avg_year  mainstreaminess_avg_month  \\\n",
       "0           0.3094285950064659                   0.024655   \n",
       "1           0.5137868970632553                   0.181991   \n",
       "2           0.6989826304571969                   0.052310   \n",
       "3           0.8828014254570007                   0.005092   \n",
       "4           0.4244110181051142                   0.042821   \n",
       "...                        ...                        ...   \n",
       "120317      0.5498878061771393                   0.084304   \n",
       "120318      0.6803168281912804                   0.049010   \n",
       "120319     0.35164836049079895                   0.038075   \n",
       "120320      0.5991988703608513                   0.040033   \n",
       "120321      0.5129455775022507                   0.115332   \n",
       "\n",
       "       mainstreaminess_avg_6months  mainstreaminess_avg_year  \\\n",
       "0              0.36734262481331825                  0.000000   \n",
       "1               0.3913043439388275                  0.000000   \n",
       "2               0.7800639122724533                  0.079669   \n",
       "3               0.8863636453946432                  0.032614   \n",
       "4               0.4917559259467655                  0.077731   \n",
       "...                            ...                       ...   \n",
       "120317          0.6624909937381744                  0.075544   \n",
       "120318          0.8278538286685944                  0.103613   \n",
       "120319         0.38235294818878174                  0.012505   \n",
       "120320          0.6567867696285248                  0.039335   \n",
       "120321           0.701197475194931                  0.089394   \n",
       "\n",
       "        mainstreaminess_global  cnt_listeningevents  cnt_distinct_tracks  ...  \\\n",
       "0                     0.124903                17198                 3601  ...   \n",
       "1                     0.343855                17967                10990  ...   \n",
       "2                     0.245980                 3939                 3084  ...   \n",
       "3                     0.077512                  234                  202  ...   \n",
       "4                     0.207567                18238                 9839  ...   \n",
       "...                        ...                  ...                  ...  ...   \n",
       "120317                0.160736                26932                 6837  ...   \n",
       "120318                0.145418                 7174                 3970  ...   \n",
       "120319                0.136102                  998                  676  ...   \n",
       "120320                0.175908                 4152                 2845  ...   \n",
       "120321                0.247454                34440                10080  ...   \n",
       "\n",
       "        relative_le_per_hour14  relative_le_per_hour15 relative_le_per_hour16  \\\n",
       "0                       0.0279                   0.041                 0.0811   \n",
       "1                       0.0016                  0.0115                 0.0276   \n",
       "2                        0.132                  0.0493                 0.0317   \n",
       "3                       0.0598                  0.0726                 0.0171   \n",
       "4                       0.0541                  0.0518                 0.0564   \n",
       "...                        ...                     ...                    ...   \n",
       "120317                  0.0542                  0.0529                 0.0575   \n",
       "120318                  0.0397                  0.0431                 0.0587   \n",
       "120319                  0.0561                  0.1172                 0.1723   \n",
       "120320                  0.0417                  0.0347                 0.0294   \n",
       "120321                  0.0153                  0.0292                 0.0422   \n",
       "\n",
       "       relative_le_per_hour17 relative_le_per_hour18 relative_le_per_hour19  \\\n",
       "0                      0.1506                 0.0377                 0.0298   \n",
       "1                      0.0662                  0.079                 0.0838   \n",
       "2                       0.047                 0.0658                 0.1127   \n",
       "3                      0.0342                 0.0769                 0.1453   \n",
       "4                      0.0554                 0.0849                 0.0954   \n",
       "...                       ...                    ...                    ...   \n",
       "120317                 0.0558                 0.0578                 0.0573   \n",
       "120318                 0.0733                 0.0843                 0.0764   \n",
       "120319                 0.1062                 0.0892                 0.1092   \n",
       "120320                 0.0236                 0.0508                 0.0763   \n",
       "120321                 0.0438                 0.0547                 0.0508   \n",
       "\n",
       "       relative_le_per_hour20 relative_le_per_hour21 relative_le_per_hour22  \\\n",
       "0                      0.0132                 0.0007                 0.0001   \n",
       "1                      0.0995                 0.1195                 0.0968   \n",
       "2                      0.1112                  0.068                 0.0437   \n",
       "3                       0.047                 0.0513                 0.0085   \n",
       "4                      0.0833                 0.0657                 0.0471   \n",
       "...                       ...                    ...                    ...   \n",
       "120317                 0.0515                 0.0551                 0.0639   \n",
       "120318                 0.0728                 0.0643                 0.0555   \n",
       "120319                 0.0621                  0.012                  0.021   \n",
       "120320                 0.1086                 0.1419                 0.1387   \n",
       "120321                 0.0428                  0.046                 0.0575   \n",
       "\n",
       "       relative_le_per_hour23  \n",
       "0                      0.0151  \n",
       "1                      0.0839  \n",
       "2                      0.0254  \n",
       "3                      0.0128  \n",
       "4                      0.0595  \n",
       "...                       ...  \n",
       "120317                 0.0641  \n",
       "120318                 0.0452  \n",
       "120319                  0.006  \n",
       "120320                 0.1004  \n",
       "120321                 0.0568  \n",
       "\n",
       "[120322 rows x 43 columns]"
      ]
     },
     "execution_count": 25,
     "metadata": {},
     "output_type": "execute_result"
    }
   ],
   "source": [
    "df"
   ]
  },
  {
   "cell_type": "code",
   "execution_count": 26,
   "metadata": {
    "cell_id": "00003-e94f1298-9006-4fca-ac70-fbbbb38d2bc3",
    "collapsed": false,
    "deepnote_cell_type": "code",
    "pycharm": {
     "name": "#%%\n"
    }
   },
   "outputs": [
    {
     "name": "stderr",
     "output_type": "stream",
     "text": [
      "/home/lazafi/labor/edds-2021/exc2/LFM1b-analyses/env2/lib/python3.8/site-packages/pandas/core/frame.py:5039: SettingWithCopyWarning: \n",
      "A value is trying to be set on a copy of a slice from a DataFrame\n",
      "\n",
      "See the caveats in the documentation: https://pandas.pydata.org/pandas-docs/stable/user_guide/indexing.html#returning-a-view-versus-a-copy\n",
      "  return super().rename(\n"
     ]
    }
   ],
   "source": [
    "users_df = df[[\"user-id\",\"mainstreaminess_global\"]]\n",
    "users_df.rename(columns={\"user-id\": \"user_id\", \"mainstreaminess_global\": \"M_global_R_APC\"}, inplace=True)"
   ]
  },
  {
   "cell_type": "code",
   "execution_count": 27,
   "metadata": {
    "cell_id": "00004-4c0fce23-e2be-4a75-839c-a83be3223a48",
    "collapsed": false,
    "deepnote_cell_type": "code",
    "deepnote_output_heights": [
     117,
     250
    ],
    "pycharm": {
     "name": "#%%\n"
    }
   },
   "outputs": [
    {
     "data": {
      "text/plain": [
       "(array([1.2444e+04, 2.9155e+04, 3.2654e+04, 2.4813e+04, 1.3835e+04,\n",
       "        5.4390e+03, 1.5830e+03, 3.3000e+02, 6.4000e+01, 5.0000e+00]),\n",
       " array([2.99081533e-05, 5.44822755e-02, 1.08934643e-01, 1.63387010e-01,\n",
       "        2.17839378e-01, 2.72291745e-01, 3.26744112e-01, 3.81196480e-01,\n",
       "        4.35648847e-01, 4.90101214e-01, 5.44553582e-01]),\n",
       " <BarContainer object of 10 artists>)"
      ]
     },
     "execution_count": 27,
     "metadata": {},
     "output_type": "execute_result"
    },
    {
     "data": {
      "image/png": "[encoded data removed]",
      "text/plain": [
       "<Figure size 432x288 with 1 Axes>"
      ]
     },
     "metadata": {
      "needs_background": "light"
     },
     "output_type": "display_data"
    }
   ],
   "source": [
    "plt.hist(users_df[\"M_global_R_APC\"])"
   ]
  },
  {
   "cell_type": "code",
   "execution_count": 28,
   "metadata": {
    "cell_id": "00005-63e32a6a-d4f1-4849-9c75-58c1acb81304",
    "collapsed": false,
    "deepnote_cell_type": "code",
    "deepnote_output_heights": [
     175
    ],
    "pycharm": {
     "name": "#%%\n"
    }
   },
   "outputs": [
    {
     "data": {
      "text/plain": [
       "count    120322.000000\n",
       "mean          0.146643\n",
       "std           0.075249\n",
       "min           0.000030\n",
       "25%           0.089515\n",
       "50%           0.139031\n",
       "75%           0.195726\n",
       "max           0.544554\n",
       "Name: M_global_R_APC, dtype: float64"
      ]
     },
     "execution_count": 28,
     "metadata": {},
     "output_type": "execute_result"
    }
   ],
   "source": [
    "users_df[\"M_global_R_APC\"].describe()"
   ]
  },
  {
   "cell_type": "code",
   "execution_count": 29,
   "metadata": {
    "cell_id": "00006-16ada969-b102-4b42-9a8a-9ff98a7e9a49",
    "collapsed": false,
    "deepnote_cell_type": "code",
    "pycharm": {
     "name": "#%%\n"
    }
   },
   "outputs": [],
   "source": [
    "high_main_users = users_df.nlargest(1000, \"M_global_R_APC\")\n",
    "low_main_users = users_df.nsmallest(1000, \"M_global_R_APC\")\n",
    "\n",
    "users_df_sorted = users_df.sort_values(by=[\"M_global_R_APC\"], inplace=False)\n",
    "median = int(len(users_df_sorted)/2)\n",
    "medium_main_users = users_df_sorted.iloc[(median-500):(median+500),]"
   ]
  },
  {
   "cell_type": "code",
   "execution_count": 30,
   "metadata": {},
   "outputs": [],
   "source": [
    "## altenatively select 1000 samples from the 0.2 and 0.8 percentiles\n",
    "quantile20 = users_df['M_global_R_APC'].quantile(0.2)\n",
    "quantile80 = users_df['M_global_R_APC'].quantile(0.8)\n",
    "\n",
    "low_main_users = users_df[users_df[\"M_global_R_APC\"]<quantile20].sample(1000,random_state=1)\n",
    "high_main_users = users_df[users_df[\"M_global_R_APC\"]>quantile80].sample(1000,random_state=1)"
   ]
  },
  {
   "cell_type": "code",
   "execution_count": 31,
   "metadata": {
    "cell_id": "00007-37682fb3-49c6-441f-9ebc-1704522a50f7",
    "collapsed": false,
    "deepnote_cell_type": "code",
    "deepnote_output_heights": [
     380
    ],
    "pycharm": {
     "name": "#%%\n"
    }
   },
   "outputs": [
    {
     "data": {
      "text/html": [
       "<div>\n",
       "<style scoped>\n",
       "    .dataframe tbody tr th:only-of-type {\n",
       "        vertical-align: middle;\n",
       "    }\n",
       "\n",
       "    .dataframe tbody tr th {\n",
       "        vertical-align: top;\n",
       "    }\n",
       "\n",
       "    .dataframe thead th {\n",
       "        text-align: right;\n",
       "    }\n",
       "</style>\n",
       "<table border=\"1\" class=\"dataframe\">\n",
       "  <thead>\n",
       "    <tr style=\"text-align: right;\">\n",
       "      <th></th>\n",
       "      <th>user_id</th>\n",
       "      <th>M_global_R_APC</th>\n",
       "    </tr>\n",
       "  </thead>\n",
       "  <tbody>\n",
       "    <tr>\n",
       "      <th>55773</th>\n",
       "      <td>34035345</td>\n",
       "      <td>0.138215</td>\n",
       "    </tr>\n",
       "    <tr>\n",
       "      <th>45815</th>\n",
       "      <td>27258257</td>\n",
       "      <td>0.138216</td>\n",
       "    </tr>\n",
       "    <tr>\n",
       "      <th>47137</th>\n",
       "      <td>28280314</td>\n",
       "      <td>0.138216</td>\n",
       "    </tr>\n",
       "    <tr>\n",
       "      <th>80407</th>\n",
       "      <td>46775293</td>\n",
       "      <td>0.138216</td>\n",
       "    </tr>\n",
       "    <tr>\n",
       "      <th>66080</th>\n",
       "      <td>39667686</td>\n",
       "      <td>0.138216</td>\n",
       "    </tr>\n",
       "    <tr>\n",
       "      <th>...</th>\n",
       "      <td>...</td>\n",
       "      <td>...</td>\n",
       "    </tr>\n",
       "    <tr>\n",
       "      <th>57987</th>\n",
       "      <td>35365786</td>\n",
       "      <td>0.139863</td>\n",
       "    </tr>\n",
       "    <tr>\n",
       "      <th>68468</th>\n",
       "      <td>40753172</td>\n",
       "      <td>0.139864</td>\n",
       "    </tr>\n",
       "    <tr>\n",
       "      <th>46757</th>\n",
       "      <td>27972449</td>\n",
       "      <td>0.139866</td>\n",
       "    </tr>\n",
       "    <tr>\n",
       "      <th>95188</th>\n",
       "      <td>48497378</td>\n",
       "      <td>0.139868</td>\n",
       "    </tr>\n",
       "    <tr>\n",
       "      <th>1369</th>\n",
       "      <td>2430161</td>\n",
       "      <td>0.139870</td>\n",
       "    </tr>\n",
       "  </tbody>\n",
       "</table>\n",
       "<p>1000 rows × 2 columns</p>\n",
       "</div>"
      ],
      "text/plain": [
       "        user_id  M_global_R_APC\n",
       "55773  34035345        0.138215\n",
       "45815  27258257        0.138216\n",
       "47137  28280314        0.138216\n",
       "80407  46775293        0.138216\n",
       "66080  39667686        0.138216\n",
       "...         ...             ...\n",
       "57987  35365786        0.139863\n",
       "68468  40753172        0.139864\n",
       "46757  27972449        0.139866\n",
       "95188  48497378        0.139868\n",
       "1369    2430161        0.139870\n",
       "\n",
       "[1000 rows x 2 columns]"
      ]
     },
     "execution_count": 31,
     "metadata": {},
     "output_type": "execute_result"
    }
   ],
   "source": [
    "medium_main_users"
   ]
  },
  {
   "cell_type": "code",
   "execution_count": 32,
   "metadata": {
    "cell_id": "00008-4608fbca-932d-4eac-916d-4f287ce3b884",
    "collapsed": false,
    "deepnote_cell_type": "code",
    "pycharm": {
     "name": "#%%\n"
    }
   },
   "outputs": [],
   "source": [
    "all_main_users = low_main_users.append([medium_main_users,high_main_users], ignore_index=True)"
   ]
  },
  {
   "cell_type": "code",
   "execution_count": 33,
   "metadata": {
    "cell_id": "00009-b6c9af28-7c3b-497e-99ba-4443c1f575da",
    "collapsed": false,
    "deepnote_cell_type": "code",
    "pycharm": {
     "name": "#%%\n"
    }
   },
   "outputs": [],
   "source": [
    "all_main_user_index = all_main_users.set_index(\"user_id\")"
   ]
  },
  {
   "cell_type": "code",
   "execution_count": 34,
   "metadata": {
    "cell_id": "00010-cdc5ce99-83b4-4a93-aeef-f860a48b3d89",
    "collapsed": false,
    "deepnote_cell_type": "code",
    "pycharm": {
     "name": "#%%\n"
    }
   },
   "outputs": [],
   "source": [
    "user_events_chunked = pd.read_csv(\"data/LFM-1b_LEs.txt\",sep='\\t', chunksize=1000000, header=None, index_col=0)\n",
    "#user_events_chunked = pd.read_csv(\"data/LFM-1b_LEs.txt\",sep='\\t', nrows=1000000, header=None, index_col=0)\n",
    "#user_events_chunked = pd.read_csv(\"data/LFM-1b_users.txt\", sep='\\t', chunksize=1000000, index_col=\"user_id\")"
   ]
  },
  {
   "cell_type": "code",
   "execution_count": 35,
   "metadata": {
    "cell_id": "00011-c843139b-e26b-45c6-98f8-875b5f44c70f",
    "collapsed": false,
    "deepnote_cell_type": "code",
    "pycharm": {
     "name": "#%%\n"
    }
   },
   "outputs": [
    {
     "name": "stdout",
     "output_type": "stream",
     "text": [
      "--- 741.2859590053558 seconds ---\n"
     ]
    }
   ],
   "source": [
    "start_time= time.time()\n",
    "\n",
    "user_events = pd.DataFrame()\n",
    "for chunk in user_events_chunked:\n",
    "    user_events = user_events.append(chunk.merge(all_main_user_index, left_index=True, right_index=True))\n",
    "\n",
    "print(\"--- %s seconds ---\" % (time.time() - start_time))"
   ]
  },
  {
   "cell_type": "code",
   "execution_count": 36,
   "metadata": {
    "cell_id": "00012-3c46d569-c177-4af4-8722-673bacdd3dbf",
    "collapsed": false,
    "deepnote_cell_type": "code",
    "deepnote_output_heights": [
     262
    ],
    "pycharm": {
     "name": "#%%\n"
    }
   },
   "outputs": [
    {
     "data": {
      "text/html": [
       "<div>\n",
       "<style scoped>\n",
       "    .dataframe tbody tr th:only-of-type {\n",
       "        vertical-align: middle;\n",
       "    }\n",
       "\n",
       "    .dataframe tbody tr th {\n",
       "        vertical-align: top;\n",
       "    }\n",
       "\n",
       "    .dataframe thead th {\n",
       "        text-align: right;\n",
       "    }\n",
       "</style>\n",
       "<table border=\"1\" class=\"dataframe\">\n",
       "  <thead>\n",
       "    <tr style=\"text-align: right;\">\n",
       "      <th></th>\n",
       "      <th>1</th>\n",
       "      <th>2</th>\n",
       "      <th>3</th>\n",
       "      <th>4</th>\n",
       "      <th>M_global_R_APC</th>\n",
       "    </tr>\n",
       "  </thead>\n",
       "  <tbody>\n",
       "    <tr>\n",
       "      <th>count</th>\n",
       "      <td>2.938656e+07</td>\n",
       "      <td>2.938656e+07</td>\n",
       "      <td>2.938656e+07</td>\n",
       "      <td>2.938656e+07</td>\n",
       "      <td>2.938656e+07</td>\n",
       "    </tr>\n",
       "    <tr>\n",
       "      <th>mean</th>\n",
       "      <td>8.475244e+04</td>\n",
       "      <td>1.779631e+06</td>\n",
       "      <td>4.217803e+06</td>\n",
       "      <td>1.324722e+09</td>\n",
       "      <td>2.140546e-01</td>\n",
       "    </tr>\n",
       "    <tr>\n",
       "      <th>std</th>\n",
       "      <td>3.044211e+05</td>\n",
       "      <td>3.367308e+06</td>\n",
       "      <td>7.100460e+06</td>\n",
       "      <td>5.654676e+07</td>\n",
       "      <td>8.489474e-02</td>\n",
       "    </tr>\n",
       "    <tr>\n",
       "      <th>min</th>\n",
       "      <td>1.000000e+00</td>\n",
       "      <td>1.000000e+00</td>\n",
       "      <td>1.000000e+00</td>\n",
       "      <td>1.108387e+09</td>\n",
       "      <td>1.469462e-03</td>\n",
       "    </tr>\n",
       "    <tr>\n",
       "      <th>25%</th>\n",
       "      <td>2.584000e+03</td>\n",
       "      <td>3.736000e+04</td>\n",
       "      <td>1.835840e+05</td>\n",
       "      <td>1.295495e+09</td>\n",
       "      <td>1.391288e-01</td>\n",
       "    </tr>\n",
       "    <tr>\n",
       "      <th>50%</th>\n",
       "      <td>9.557000e+03</td>\n",
       "      <td>1.991850e+05</td>\n",
       "      <td>7.764620e+05</td>\n",
       "      <td>1.337014e+09</td>\n",
       "      <td>2.285209e-01</td>\n",
       "    </tr>\n",
       "    <tr>\n",
       "      <th>75%</th>\n",
       "      <td>3.614900e+04</td>\n",
       "      <td>1.476838e+06</td>\n",
       "      <td>4.393754e+06</td>\n",
       "      <td>1.366965e+09</td>\n",
       "      <td>2.801919e-01</td>\n",
       "    </tr>\n",
       "    <tr>\n",
       "      <th>max</th>\n",
       "      <td>3.190190e+06</td>\n",
       "      <td>1.599069e+07</td>\n",
       "      <td>3.228962e+07</td>\n",
       "      <td>1.470889e+09</td>\n",
       "      <td>4.284237e-01</td>\n",
       "    </tr>\n",
       "  </tbody>\n",
       "</table>\n",
       "</div>"
      ],
      "text/plain": [
       "                  1             2             3             4  M_global_R_APC\n",
       "count  2.938656e+07  2.938656e+07  2.938656e+07  2.938656e+07    2.938656e+07\n",
       "mean   8.475244e+04  1.779631e+06  4.217803e+06  1.324722e+09    2.140546e-01\n",
       "std    3.044211e+05  3.367308e+06  7.100460e+06  5.654676e+07    8.489474e-02\n",
       "min    1.000000e+00  1.000000e+00  1.000000e+00  1.108387e+09    1.469462e-03\n",
       "25%    2.584000e+03  3.736000e+04  1.835840e+05  1.295495e+09    1.391288e-01\n",
       "50%    9.557000e+03  1.991850e+05  7.764620e+05  1.337014e+09    2.285209e-01\n",
       "75%    3.614900e+04  1.476838e+06  4.393754e+06  1.366965e+09    2.801919e-01\n",
       "max    3.190190e+06  1.599069e+07  3.228962e+07  1.470889e+09    4.284237e-01"
      ]
     },
     "execution_count": 36,
     "metadata": {},
     "output_type": "execute_result"
    }
   ],
   "source": [
    "user_events.describe()"
   ]
  },
  {
   "cell_type": "code",
   "execution_count": 37,
   "metadata": {
    "cell_id": "00013-fa0521b7-8bf6-46a3-b3e7-396e9bd415ef",
    "collapsed": false,
    "deepnote_cell_type": "code",
    "pycharm": {
     "name": "#%%\n"
    }
   },
   "outputs": [],
   "source": [
    "user_events_noMS = user_events.drop(\"M_global_R_APC\", axis=1)"
   ]
  },
  {
   "cell_type": "code",
   "execution_count": 38,
   "metadata": {
    "cell_id": "00014-53c9dabc-8e0a-46df-9324-ea562dbb665e",
    "collapsed": false,
    "deepnote_cell_type": "code",
    "pycharm": {
     "name": "#%%\n"
    }
   },
   "outputs": [
    {
     "name": "stdout",
     "output_type": "stream",
     "text": [
      "Successfully created the directory ./data/sel2 \n"
     ]
    }
   ],
   "source": [
    "import os\n",
    "output_data_dir = \"./data/sel2\"\n",
    "try:\n",
    "    os.mkdir(output_data_dir)\n",
    "except OSError:\n",
    "    print (\"Creation of the directory %s failed\" % output_data_dir)\n",
    "else:\n",
    "    print (\"Successfully created the directory %s \" % output_data_dir)\n",
    "\n",
    "medium_main_users.to_csv((\"%s/medium_main_users.txt\" % output_data_dir), header=True, index=None, sep=',', mode='w')\n",
    "low_main_users.to_csv((\"%s/low_main_users.txt\" % output_data_dir), header=True, index=None, sep=',', mode='w')\n",
    "high_main_users.to_csv((\"%s/high_main_users.txt\" % output_data_dir), header=True, index=None, sep=',', mode='w')"
   ]
  },
  {
   "cell_type": "code",
   "execution_count": 39,
   "metadata": {
    "cell_id": "00015-5c881a7a-4c19-4c99-80aa-6a53f8f8b6fd",
    "collapsed": false,
    "deepnote_cell_type": "code",
    "pycharm": {
     "name": "#%%\n"
    }
   },
   "outputs": [],
   "source": [
    "user_events_noMS.to_csv((\"%s/user_events.txt\" % output_data_dir), header=False, index=True, sep='\\t', mode='w')"
   ]
  },
  {
   "cell_type": "markdown",
   "metadata": {
    "created_in_deepnote_cell": true,
    "deepnote_cell_type": "markdown",
    "tags": []
   },
   "source": [
    "<a style='text-decoration:none;line-height:16px;display:flex;color:#5B5B62;padding:10px;justify-content:end;' href='https://deepnote.com?utm_source=created-in-deepnote-cell&projectId=c71ee098-d1be-4664-b568-6d192252507e' target=\"_blank\">\n",
    "<img alt='Created in deepnote.com' style='display:inline;max-height:16px;margin:0px;margin-right:7.5px;' src='data:image/svg+xml;base64,PD94bWwgdmVyc2lvbj0iMS4wIiBlbmNvZGluZz0iVVRGLTgiPz4KPHN2ZyB3aWR0aD0iODBweCIgaGVpZ2h0PSI4MHB4IiB2aWV3Qm94PSIwIDAgODAgODAiIHZlcnNpb249IjEuMSIgeG1sbnM9Imh0dHA6Ly93d3cudzMub3JnLzIwMDAvc3ZnIiB4bWxuczp4bGluaz0iaHR0cDovL3d3dy53My5vcmcvMTk5OS94bGluayI+CiAgICA8IS0tIEdlbmVyYXRvcjogU2tldGNoIDU0LjEgKDc2NDkwKSAtIGh0dHBzOi8vc2tldGNoYXBwLmNvbSAtLT4KICAgIDx0aXRsZT5Hcm91cCAzPC90aXRsZT4KICAgIDxkZXNjPkNyZWF0ZWQgd2l0aCBTa2V0Y2guPC9kZXNjPgogICAgPGcgaWQ9IkxhbmRpbmciIHN0cm9rZT0ibm9uZSIgc3Ryb2tlLXdpZHRoPSIxIiBmaWxsPSJub25lIiBmaWxsLXJ1bGU9ImV2ZW5vZGQiPgogICAgICAgIDxnIGlkPSJBcnRib2FyZCIgdHJhbnNmb3JtPSJ0cmFuc2xhdGUoLTEyMzUuMDAwMDAwLCAtNzkuMDAwMDAwKSI+CiAgICAgICAgICAgIDxnIGlkPSJHcm91cC0zIiB0cmFuc2Zvcm09InRyYW5zbGF0ZSgxMjM1LjAwMDAwMCwgNzkuMDAwMDAwKSI+CiAgICAgICAgICAgICAgICA8cG9seWdvbiBpZD0iUGF0aC0yMCIgZmlsbD0iIzAyNjVCNCIgcG9pbnRzPSIyLjM3NjIzNzYyIDgwIDM4LjA0NzY2NjcgODAgNTcuODIxNzgyMiA3My44MDU3NTkyIDU3LjgyMTc4MjIgMzIuNzU5MjczOSAzOS4xNDAyMjc4IDMxLjY4MzE2ODMiPjwvcG9seWdvbj4KICAgICAgICAgICAgICAgIDxwYXRoIGQ9Ik0zNS4wMDc3MTgsODAgQzQyLjkwNjIwMDcsNzYuNDU0OTM1OCA0Ny41NjQ5MTY3LDcxLjU0MjI2NzEgNDguOTgzODY2LDY1LjI2MTk5MzkgQzUxLjExMjI4OTksNTUuODQxNTg0MiA0MS42NzcxNzk1LDQ5LjIxMjIyODQgMjUuNjIzOTg0Niw0OS4yMTIyMjg0IEMyNS40ODQ5Mjg5LDQ5LjEyNjg0NDggMjkuODI2MTI5Niw0My4yODM4MjQ4IDM4LjY0NzU4NjksMzEuNjgzMTY4MyBMNzIuODcxMjg3MSwzMi41NTQ0MjUgTDY1LjI4MDk3Myw2Ny42NzYzNDIxIEw1MS4xMTIyODk5LDc3LjM3NjE0NCBMMzUuMDA3NzE4LDgwIFoiIGlkPSJQYXRoLTIyIiBmaWxsPSIjMDAyODY4Ij48L3BhdGg+CiAgICAgICAgICAgICAgICA8cGF0aCBkPSJNMCwzNy43MzA0NDA1IEwyNy4xMTQ1MzcsMC4yNTcxMTE0MzYgQzYyLjM3MTUxMjMsLTEuOTkwNzE3MDEgODAsMTAuNTAwMzkyNyA4MCwzNy43MzA0NDA1IEM4MCw2NC45NjA0ODgyIDY0Ljc3NjUwMzgsNzkuMDUwMzQxNCAzNC4zMjk1MTEzLDgwIEM0Ny4wNTUzNDg5LDc3LjU2NzA4MDggNTMuNDE4MjY3Nyw3MC4zMTM2MTAzIDUzLjQxODI2NzcsNTguMjM5NTg4NSBDNTMuNDE4MjY3Nyw0MC4xMjg1NTU3IDM2LjMwMzk1NDQsMzcuNzMwNDQwNSAyNS4yMjc0MTcsMzcuNzMwNDQwNSBDMTcuODQzMDU4NiwzNy43MzA0NDA1IDkuNDMzOTE5NjYsMzcuNzMwNDQwNSAwLDM3LjczMDQ0MDUgWiIgaWQ9IlBhdGgtMTkiIGZpbGw9IiMzNzkzRUYiPjwvcGF0aD4KICAgICAgICAgICAgPC9nPgogICAgICAgIDwvZz4KICAgIDwvZz4KPC9zdmc+' > </img>\n",
    "Created in <span style='font-weight:600;margin-left:4px;'>Deepnote</span></a>"
   ]
  }
 ],
 "metadata": {
  "deepnote": {},
  "deepnote_execution_queue": [],
  "deepnote_notebook_id": "5334bb3e-334e-4de0-8d56-80f72338e7a7",
  "kernelspec": {
   "display_name": "Python 3",
   "language": "python",
   "name": "python3"
  },
  "language_info": {
   "codemirror_mode": {
    "name": "ipython",
    "version": 3
   },
   "file_extension": ".py",
   "mimetype": "text/x-python",
   "name": "python",
   "nbconvert_exporter": "python",
   "pygments_lexer": "ipython3",
   "version": "3.8.10"
  }
 },
 "nbformat": 4,
 "nbformat_minor": 0
}
